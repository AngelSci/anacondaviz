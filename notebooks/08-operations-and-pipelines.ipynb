{
 "cells": [
  {
   "cell_type": "markdown",
   "metadata": {},
   "source": [
    "<a href='http://www.holoviews.org'><img src=\"assets/hv+bk.png\" alt=\"HV+BK logos\" width=\"40%;\" align=\"left\"/></a>\n",
    "<div style=\"float:right;\"><h2>08. Operations and Pipelines</h2></div>"
   ]
  },
  {
   "cell_type": "markdown",
   "metadata": {},
   "source": [
    "When interactively exploring a dataset you often end up interleaving visualization and analysis code. Since in HoloViews your visualization and your data are one and the same, analysis and data transformations can be applied directly to the visualizable data. For that purpose HoloViews provides operations, which can be used to implement any analysis or data transformation you might want to do.\n",
    "\n",
    "Since Operations know about HoloViews you can apply them to large collections of data collected in HoloMap and DynamicMap containers. Since operations work on both of these containers that means they can also be applied lazily. This feature allows us to chain multiple operations in a data analysis, processing and visualization pipeline and drive the operation of a dashboard.\n",
    "\n",
    "Internally pipelines built using DynamicMap and HoloViews operations will lazily (re)compute just the part of the pipeline that has changed providing an easy way of caching intermediate results and computing just what is required at the time."
   ]
  },
  {
   "cell_type": "code",
   "execution_count": null,
   "metadata": {},
   "outputs": [],
   "source": [
    "import time\n",
    "import param\n",
    "import numpy as np\n",
    "import pandas as pd\n",
    "import holoviews as hv\n",
    "import datashader as ds\n",
    "\n",
    "from bokeh.sampledata import stocks\n",
    "from holoviews.operation import decimate\n",
    "from holoviews.operation.timeseries import rolling, rolling_outlier_std\n",
    "from holoviews.operation.datashader import datashade, dynspread, aggregate\n",
    "\n",
    "hv.extension('bokeh')"
   ]
  },
  {
   "cell_type": "markdown",
   "metadata": {},
   "source": [
    "# Declare some data"
   ]
  },
  {
   "cell_type": "markdown",
   "metadata": {},
   "source": [
    "In this example we'll work with a timeseries mocking some stock data, so we'll define a small function to generate a random, noisy timeseries and define a ``DynamicMap`` which will load (or rather generate) a timeseries for each stock symbol:"
   ]
  },
  {
   "cell_type": "code",
   "execution_count": null,
   "metadata": {
    "collapsed": true
   },
   "outputs": [],
   "source": [
    "def time_series(T = 1, N = 100, mu = 0.1, sigma = 0.1, S0 = 20):  \n",
    "    \"\"\"Parameterized noisy time series\"\"\"\n",
    "    dt = float(T)/N\n",
    "    t = np.linspace(0, T, N)\n",
    "    W = np.random.standard_normal(size = N) \n",
    "    W = np.cumsum(W)*np.sqrt(dt) # standard brownian motion\n",
    "    X = (mu-0.5*sigma**2)*t + sigma*W \n",
    "    S = S0*np.exp(X) # geometric brownian motion\n",
    "    return S\n",
    "\n",
    "def load_symbol(symbol, **kwargs):\n",
    "    return hv.Curve(time_series(N=10000), kdims=[('time', 'Time')],\n",
    "                    vdims=[('adj_close', 'Adjusted Close')])\n",
    "\n",
    "dmap = hv.DynamicMap(load_symbol, kdims=['Symbol']).redim.values(Symbol=stocks.stocks)"
   ]
  },
  {
   "cell_type": "markdown",
   "metadata": {},
   "source": [
    "We will start by visualizing this data very simply:"
   ]
  },
  {
   "cell_type": "code",
   "execution_count": null,
   "metadata": {},
   "outputs": [],
   "source": [
    "%opts Curve [width=600] {+framewise}\n",
    "dmap"
   ]
  },
  {
   "cell_type": "markdown",
   "metadata": {},
   "source": [
    "## Applying an operation"
   ]
  },
  {
   "cell_type": "markdown",
   "metadata": {},
   "source": [
    "Now we will start applying some operations to this data. HoloViews ships with two ready-to-use timeseries operations: the ``rolling`` operation, which applies a function over a rolling window, and a ``rolling_outlier_std`` operation that computes outlier points in a timeseries by excluding points less than sigma standard deviation removed from the rolling mean. This is just an example and you can trivially write operations that do whatever you like."
   ]
  },
  {
   "cell_type": "code",
   "execution_count": null,
   "metadata": {},
   "outputs": [],
   "source": [
    "%opts Scatter (color='indianred')\n",
    "smoothed = rolling(dmap, rolling_window=30)\n",
    "outliers = rolling_outlier_std(dmap, rolling_window=30)\n",
    "smoothed * outliers"
   ]
  },
  {
   "cell_type": "markdown",
   "metadata": {},
   "source": [
    "As you can see the operations transform the ``Curve`` element into a smoothed version and a set of ``Scatter`` points containing the outliers both with a ``rolling_window`` of 30. Since we applied the operation to a ``DynamicMap``, the operation is lazy and only computes the result when it is requested. "
   ]
  },
  {
   "cell_type": "code",
   "execution_count": null,
   "metadata": {
    "collapsed": true
   },
   "outputs": [],
   "source": [
    "# Exercise: Apply the rolling and rolling_outlier_std operations changing the rolling_window and sigma parameters"
   ]
  },
  {
   "cell_type": "markdown",
   "metadata": {},
   "source": [
    "## Linking operations to streams"
   ]
  },
  {
   "cell_type": "markdown",
   "metadata": {},
   "source": [
    "Instead of supplying the parameter values explicitly as a scalar value we can also define a ``Stream`` which will let us update our visualization dynamically. By supplying a ``Stream`` with a ``rolling_window`` parameter to both operations we can now generate events on the stream and watch our visualization update."
   ]
  },
  {
   "cell_type": "code",
   "execution_count": null,
   "metadata": {},
   "outputs": [],
   "source": [
    "rolling_stream = hv.streams.Stream.define('rolling', rolling_window=5)\n",
    "stream = rolling_stream()\n",
    "\n",
    "rolled_dmap = rolling(dmap, streams=[stream])\n",
    "outlier_dmap = rolling_outlier_std(dmap, streams=[stream])\n",
    "rolled_dmap * outlier_dmap"
   ]
  },
  {
   "cell_type": "code",
   "execution_count": null,
   "metadata": {},
   "outputs": [],
   "source": [
    "for i in range(0, 200, 20):\n",
    "    time.sleep(0.1)\n",
    "    stream.event(rolling_window=i)"
   ]
  },
  {
   "cell_type": "code",
   "execution_count": null,
   "metadata": {
    "collapsed": true
   },
   "outputs": [],
   "source": [
    "# Exercise: Create a stream to control the sigma value and add it to the outlier operation,\n",
    "#           then vary the sigma value and observe the effect"
   ]
  },
  {
   "cell_type": "markdown",
   "metadata": {},
   "source": [
    "## Chaining operations"
   ]
  },
  {
   "cell_type": "markdown",
   "metadata": {},
   "source": [
    "Finally, since operation simply transform and Element in some way, operations can easily be chained. As a simple example we will take the ``rolled_dmap`` and apply the ``datashading`` and ``dynspread`` operation to it. As you'll be able to see, this defines a complex analysis pipeline."
   ]
  },
  {
   "cell_type": "code",
   "execution_count": null,
   "metadata": {},
   "outputs": [],
   "source": [
    "%%opts RGB [width=600 height=400] {+framewise}\n",
    "overlay = dynspread(datashade(rolled_dmap)) * outlier_dmap\n",
    "overlay"
   ]
  },
  {
   "cell_type": "markdown",
   "metadata": {},
   "source": [
    "## Visualizating the pipeline"
   ]
  },
  {
   "cell_type": "markdown",
   "metadata": {},
   "source": [
    "To understand what is going on we will write a small utility that traverses the output we just displayed above and visualizes each processing step leading up to it."
   ]
  },
  {
   "cell_type": "code",
   "execution_count": null,
   "metadata": {},
   "outputs": [],
   "source": [
    "%%opts RGB Curve [width=250 height=200]\n",
    "\n",
    "def traverse(obj, key, items=None):\n",
    "    items = [] if items is None else items\n",
    "    for inp in obj.callback.inputs[:1]:\n",
    "        label = inp.callback.operation.name if isinstance(inp.callback, hv.core.OperationCallable) else ''\n",
    "        if inp.last: items.append(inp[key].relabel(label))\n",
    "        if isinstance(inp, hv.DynamicMap): traverse(inp, key, items)\n",
    "    return list(hv.core.util.unique_iterator(items))[:-1]\n",
    "\n",
    "hv.Layout(traverse(overlay, 'AAPL')).cols(4)"
   ]
  }
 ],
 "metadata": {
  "kernelspec": {
   "display_name": "Python 3",
   "language": "python",
   "name": "python3"
  },
  "language_info": {
   "codemirror_mode": {
    "name": "ipython",
    "version": 3
   },
   "file_extension": ".py",
   "mimetype": "text/x-python",
   "name": "python",
   "nbconvert_exporter": "python",
   "pygments_lexer": "ipython3",
   "version": "3.6.2"
  }
 },
 "nbformat": 4,
 "nbformat_minor": 2
}
