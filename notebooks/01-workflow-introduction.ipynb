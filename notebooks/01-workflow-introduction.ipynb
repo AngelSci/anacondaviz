{
 "cells": [
  {
   "cell_type": "markdown",
   "metadata": {},
   "source": [
    "<H1 align=\"center\">Deploying interactive dashboards for visualizing hundreds of millions of datapoints</H1>\n",
    "<br>\n",
    "<H1 align=\"center\">JupyterCon 2017</h1>\n",
    "\n",
    "<center>\n",
    "<img src=\"./assets/combined.png\" width='550px'></img>\n",
    "</center>"
   ]
  },
  {
   "cell_type": "markdown",
   "metadata": {},
   "source": [
    "**Let's say you want to make it easy to explore some dataset. That is, you want to:** \n",
    "\n",
    "* Make a visualization of the data\n",
    "* Maybe add some custom widgets to see the effects of some variables\n",
    "* Then deploy the result as a web app.\n",
    "\n",
    "**You can do that in Python, but you typically need to:**\n",
    "* Spend days of effort to get some initial prototype working, e.g. in a Jupyter notebook\n",
    "* Try to tame the resulting opaque mishmash of domain-specific, widget, and plotting code\n",
    "* Start over nearly from scratch whenever you need to:\n",
    "    - Deploy in a standalone server\n",
    "    - Visualize different aspects of your data\n",
    "    - Scale up to larger (>100K) datasets"
   ]
  },
  {
   "cell_type": "markdown",
   "metadata": {},
   "source": [
    "# Key libraries:\n",
    "\n",
    "Here we'll show a simple, flexible, powerful, step-by-step way to solve problems like this, by combining open-source libraries:\n",
    "\n",
    "* [**Dask**](http://dask.pydata.org): Efficient out-of-core/distributed computation on massive datasets\n",
    "* [**Fastparquet**](https://fastparquet.readthedocs.io): Efficient storage for columnar data\n",
    "* [**HoloViews**](http://holoviews.org): Declarative objects for instantly visualizable data\n",
    "* [**GeoViews**](http://geo.holoviews.org): Easy mix-and-matching of geographic data with custom plots\n",
    "* [**Bokeh**](http://bokeh.pydata.org): Interactive plotting in web browsers, controlled by Python\n",
    "* [**Numba**](http://numba.pydata.org): Accelerated machine code for inner loops\n",
    "* [**Datashader**](https://github.com/bokeh/datashader): Rasterizing huge datasets quickly using Dask and Numba\n",
    "* [**Param**](https://github.com/ioam/param): Declaring user-relevant parameters in domain-specific code"
   ]
  },
  {
   "cell_type": "markdown",
   "metadata": {},
   "source": [
    "# Let's look at a full data science workflow:\n",
    "\n",
    "-  Step 1: Get some data\n",
    "-  Step 2: Prototype a plot in a notebook\n",
    "-  Step 3: Declare your Parameters\n",
    "-  Step 4: Get a widget-based UI for free\n",
    "-  Step 5: Link your Parameters to your data\n",
    "-  Step 6: Widgets now control your interactive plots\n",
    "-  Step 7: Deploy your dashboard"
   ]
  },
  {
   "cell_type": "code",
   "execution_count": null,
   "metadata": {
    "collapsed": true
   },
   "outputs": [],
   "source": [
    "import holoviews as hv\n",
    "import geoviews as gv\n",
    "import param, paramnb, parambokeh\n",
    "import pandas as pd\n",
    "import dask.dataframe as dd\n",
    "\n",
    "from colorcet import cm\n",
    "from bokeh.models import WMTSTileSource\n",
    "from holoviews.operation.datashader import datashade\n",
    "from holoviews.streams import RangeXY, PlotSize"
   ]
  },
  {
   "cell_type": "markdown",
   "metadata": {},
   "source": [
    "## Step 1: Get some data\n",
    "\n",
    "* Here we'll use a subset of the often-studied NYC Taxi dataset\n",
    "* About 12 million points of GPS locations from taxis\n",
    "* Stored in the efficient Parquet format for easy access\n",
    "* Loaded into a Dask dataframe for multi-core<br>(and if needed, out of core or distributed) computation"
   ]
  },
  {
   "cell_type": "code",
   "execution_count": null,
   "metadata": {
    "collapsed": true
   },
   "outputs": [],
   "source": [
    "%time df = dd.read_parquet('./data/nyc_taxi.parq/').persist()\n",
    "print(len(df))\n",
    "df.head(2)"
   ]
  },
  {
   "cell_type": "markdown",
   "metadata": {},
   "source": [
    "## Step 2: Prototype a plot in a notebook\n",
    "\n",
    "* A text-based representation isn't very useful for big datasets like this, so we need to build a plot\n",
    "* But we don't want to start a software project, so we use HoloViews:\n",
    "    - Simple, declarative way to annotate your data for visualization\n",
    "    - Large library of Elements with associated visual representation\n",
    "    - Elements combine (lay out or overlay) easily\n",
    "* And we'll want live interactivity, so we'll use a Bokeh plotting extension\n",
    "* But our data is much too big for Bokeh directly, so we'll use Datashader to rasterize it first"
   ]
  },
  {
   "cell_type": "code",
   "execution_count": null,
   "metadata": {
    "collapsed": true
   },
   "outputs": [],
   "source": [
    "hv.extension('bokeh')\n",
    "points = hv.Points(df, kdims=['pickup_x', 'pickup_y'], vdims=['passenger_count'])\n",
    "options = dict(width=800,height=475,xaxis=None,yaxis=None,bgcolor='black')\n",
    "taxi_trips = datashade(points, x_sampling=1, y_sampling=1, cmap=cm['fire']).opts(plot=options)\n",
    "taxi_trips"
   ]
  },
  {
   "cell_type": "markdown",
   "metadata": {},
   "source": [
    "Let's put the data in context, overlaying it on a map:"
   ]
  },
  {
   "cell_type": "code",
   "execution_count": null,
   "metadata": {
    "collapsed": true
   },
   "outputs": [],
   "source": [
    "%%opts QuadMesh (fill_alpha=0 hover_line_alpha=1) [tools=['hover']]\n",
    "taxi_trips_qm = hv.operation.datashader.aggregate(points, x_sampling=1, streams=[hv.streams.RangeXY()], width=50, height=50, y_sampling=1, cmap=cm['fire']).opts(plot=options)\n",
    "taxi_trips * taxi_trips_qm.map(hv.QuadMesh, hv.Image)"
   ]
  },
  {
   "cell_type": "code",
   "execution_count": null,
   "metadata": {
    "collapsed": true
   },
   "outputs": [],
   "source": [
    "tiles = gv.WMTS(WMTSTileSource(url='https://server.arcgisonline.com/ArcGIS/rest/services/'\n",
    "                                   'World_Imagery/MapServer/tile/{Z}/{Y}/{X}.jpg'))\n",
    "taxi_trips = datashade(points, x_sampling=1, y_sampling=1, cmap=cm['fire']).opts(plot=options)\n",
    "tiles * taxi_trips"
   ]
  },
  {
   "cell_type": "markdown",
   "metadata": {},
   "source": [
    "## Step 3: Declare your Parameters\n",
    "\n",
    "Now that we've prototyped a nice plot, we want it to be widely sharable, with controls for safe and easy exploration. \n",
    "\n",
    "So the next step: declare what the intended user can change, with:\n",
    "\n",
    "  - type and range checking\n",
    "  - documentation strings\n",
    "  - default values\n",
    "  \n",
    "The Param library allows declaring Python attributes having these features<br>(and more, such as dynamic values and inheritance)."
   ]
  },
  {
   "cell_type": "markdown",
   "metadata": {},
   "source": [
    "## NYC Taxi Parameters"
   ]
  },
  {
   "cell_type": "code",
   "execution_count": null,
   "metadata": {
    "collapsed": true
   },
   "outputs": [],
   "source": [
    "class NYCTaxiExplorer(hv.streams.Stream):\n",
    "    alpha       = param.Magnitude(default=0.75, doc=\"Alpha value for the map opacity\")\n",
    "    plot        = param.ObjectSelector(default=\"pickup\", objects=[\"pickup\",\"dropoff\"])\n",
    "    colormap    = param.ObjectSelector(default=cm[\"fire\"], objects=cm.values())\n",
    "    passengers  = param.Range(default=(0, 10), bounds=(0, 10), doc=\"\"\"\n",
    "        Filter for taxi trips by number of passengers\"\"\")"
   ]
  },
  {
   "cell_type": "markdown",
   "metadata": {},
   "source": [
    "Each Parameter is a normal Python attribute, but with special checks and functions run automatically when getting or setting.\n",
    "\n",
    "Parameters capture your goals and your knowledge about your domain, declaratively."
   ]
  },
  {
   "cell_type": "markdown",
   "metadata": {},
   "source": [
    "### Class level parameters"
   ]
  },
  {
   "cell_type": "code",
   "execution_count": null,
   "metadata": {
    "collapsed": true
   },
   "outputs": [],
   "source": [
    "NYCTaxiExplorer.alpha"
   ]
  },
  {
   "cell_type": "code",
   "execution_count": null,
   "metadata": {
    "collapsed": true
   },
   "outputs": [],
   "source": [
    "NYCTaxiExplorer.alpha = 0.5\n",
    "NYCTaxiExplorer.alpha"
   ]
  },
  {
   "cell_type": "markdown",
   "metadata": {},
   "source": [
    "### Validation"
   ]
  },
  {
   "cell_type": "code",
   "execution_count": null,
   "metadata": {
    "collapsed": true
   },
   "outputs": [],
   "source": [
    "try:\n",
    "   NYCTaxiExplorer.alpha = '0'\n",
    "except Exception as e:\n",
    "    print(e) "
   ]
  },
  {
   "cell_type": "markdown",
   "metadata": {},
   "source": [
    "### Instance parameters"
   ]
  },
  {
   "cell_type": "code",
   "execution_count": null,
   "metadata": {
    "collapsed": true
   },
   "outputs": [],
   "source": [
    "explorer = NYCTaxiExplorer(alpha=0.6)\n",
    "explorer.alpha"
   ]
  },
  {
   "cell_type": "code",
   "execution_count": null,
   "metadata": {
    "collapsed": true
   },
   "outputs": [],
   "source": [
    "NYCTaxiExplorer.alpha"
   ]
  },
  {
   "cell_type": "markdown",
   "metadata": {},
   "source": [
    "## Step 4: Get a widget-based UI for free\n",
    "\n",
    "* Parameters are purely declarative, but contain all the information needed to build interactive widgets\n",
    "* ParamNB generates UIs from Parameters, using ipywidgets"
   ]
  },
  {
   "cell_type": "code",
   "execution_count": null,
   "metadata": {
    "collapsed": true
   },
   "outputs": [],
   "source": [
    "paramnb.Widgets(NYCTaxiExplorer)"
   ]
  },
  {
   "cell_type": "code",
   "execution_count": null,
   "metadata": {
    "collapsed": true
   },
   "outputs": [],
   "source": [
    "NYCTaxiExplorer.passengers"
   ]
  },
  {
   "cell_type": "markdown",
   "metadata": {},
   "source": [
    "* ipywidgets work with Jupyter Dashboards Server for deployment"
   ]
  },
  {
   "cell_type": "markdown",
   "metadata": {},
   "source": [
    "* Declaration of parameters is independent of the UI library used\n",
    "* ParamBokeh generates UIs from Parameters, using Bokeh widgets"
   ]
  },
  {
   "cell_type": "code",
   "execution_count": null,
   "metadata": {
    "collapsed": true
   },
   "outputs": [],
   "source": [
    "parambokeh.Widgets(NYCTaxiExplorer )"
   ]
  },
  {
   "cell_type": "markdown",
   "metadata": {},
   "source": [
    "* Bokeh widgets work with Bokeh Server for deployment"
   ]
  },
  {
   "cell_type": "markdown",
   "metadata": {},
   "source": [
    "## Step 5: Link your Parameters to your data\n",
    "\n",
    "Because the Parameters defined earlier are *about* a plot, it makes sense to combine the parameter and plotting declarations into a single object:"
   ]
  },
  {
   "cell_type": "code",
   "execution_count": null,
   "metadata": {
    "collapsed": true
   },
   "outputs": [],
   "source": [
    "class NYCTaxiExplorer(hv.streams.Stream):\n",
    "    alpha       = param.Magnitude(default=0.75, doc=\"Alpha value for the map opacity\")\n",
    "    colormap    = param.ObjectSelector(default=cm[\"fire\"], objects=cm.values())\n",
    "    plot        = param.ObjectSelector(default=\"pickup\",   objects=[\"pickup\",\"dropoff\"])\n",
    "    passengers  = param.Range(default=(0, 10), bounds=(0, 10))\n",
    "\n",
    "    def make_view(self, x_range=None, y_range=None, **kwargs):\n",
    "        map_tiles = tiles.opts(style=dict(alpha=self.alpha), plot=options) \n",
    "\n",
    "        points = hv.Points(df, kdims=[self.plot+'_x', self.plot+'_y'], vdims=['passenger_count'])\n",
    "        selected = points.select(passenger_count=self.passengers)\n",
    "        taxi_trips = datashade(selected, x_sampling=1, y_sampling=1, cmap=self.colormap,\n",
    "                               dynamic=False, x_range=x_range, y_range=y_range,\n",
    "                               width=800, height=475)\n",
    "        return map_tiles * taxi_trips"
   ]
  },
  {
   "cell_type": "markdown",
   "metadata": {},
   "source": [
    "Note that the `NYCTaxiExplorer` class is entirely declarative (no widgets), and can be used \"by hand\" to provide range-checked and type-checked plotting:"
   ]
  },
  {
   "cell_type": "code",
   "execution_count": null,
   "metadata": {
    "collapsed": true
   },
   "outputs": [],
   "source": [
    "explorer = NYCTaxiExplorer(alpha=0.2, plot=\"dropoff\")\n",
    "explorer.make_view()"
   ]
  },
  {
   "cell_type": "markdown",
   "metadata": {},
   "source": [
    "## Step 6: Widgets now control your interactive plots"
   ]
  },
  {
   "cell_type": "code",
   "execution_count": null,
   "metadata": {
    "collapsed": true
   },
   "outputs": [],
   "source": [
    "explorer = NYCTaxiExplorer()\n",
    "paramnb.Widgets(explorer, callback=explorer.event)\n",
    "hv.DynamicMap(explorer.make_view, streams=[explorer, RangeXY()])"
   ]
  },
  {
   "cell_type": "code",
   "execution_count": null,
   "metadata": {
    "collapsed": true
   },
   "outputs": [],
   "source": [
    "explorer = NYCTaxiExplorer()\n",
    "parambokeh.Widgets(explorer, callback=explorer.event)\n",
    "hv.DynamicMap(explorer.make_view, streams=[explorer, RangeXY()])"
   ]
  },
  {
   "cell_type": "markdown",
   "metadata": {},
   "source": [
    "## Step 7: Deploy your dashboard\n",
    "\n",
    "If you want to share your work with people who don't use Python, you'll now want to run a server with this same code.\n",
    "\n",
    "* If you used **ParamBokeh**, deploy with **Bokeh Server**:\n",
    "    - Write the above code to a file ``nyc_parambokeh.py``,<br> switching to server mode when calling `Widgets`, which will return a bokeh `Document`\n",
    "    - ``bokeh serve nyc_parambokeh.py``"
   ]
  },
  {
   "cell_type": "markdown",
   "metadata": {},
   "source": [
    "* If you used **ParamNB**, deploy with **Jupyter Dashboard Server**:\n",
    "    - Use [Jupyter Dashboards Extension](https://github.com/jupyter/dashboards) to select cells from the notebook to display\n",
    "    - Use preview mode to see layout\n",
    "    - Use [Jupyter Dashboards Server](https://github.com/jupyter-incubator/dashboards_server) to deploy\n",
    "    - Note various caveats below"
   ]
  },
  {
   "cell_type": "markdown",
   "metadata": {},
   "source": [
    "# Branching out\n",
    "\n",
    "Much more ambitious apps are possible with very little additional code or effort:\n",
    "\n",
    "* Adding additional linked or separate subplots of any type; see [holoviews.org](http://holoviews.org)\n",
    "* Declaring code that runs for clicking or selecting *within* the Bokeh plot; see \"streams\" at [holoviews.org](http://holoviews.org)\n",
    "* Using multiple sets of widgets of many different types; see [ParamNB](https://github.com/ioam/paramnb) and [ParamBokeh](https://github.com/ioam/parambokeh)\n",
    "* Using datasets too big for any one machine, with [Dask.Distributed](https://distributed.readthedocs.io)"
   ]
  },
  {
   "cell_type": "markdown",
   "metadata": {},
   "source": [
    "# Future work\n",
    "\n",
    "* Jupyter Dashboards Server not currently maintained; requires older ipywidgets version\n",
    "* Bokeh Server is mature and well supported, but does not currently support drag-and-drop layout like Jupyter Dashboards does\n",
    "* ParamBokeh still needs some polishing and work to make it ready for widespread use; ParamNB is more mature so far\n",
    "* Both ParamNB and ParamBokeh should provide more flexible widget layouts\n",
    "* Let us know what you would like to see out of these tools!\n",
    "\n",
    "Join us on our Gitter channel or file issues!"
   ]
  }
 ],
 "metadata": {
  "kernelspec": {
   "display_name": "Python [conda env:scipy2017]",
   "language": "python",
   "name": "conda-env-scipy2017-py"
  },
  "language_info": {
   "codemirror_mode": {
    "name": "ipython",
    "version": 3
   },
   "file_extension": ".py",
   "mimetype": "text/x-python",
   "name": "python",
   "nbconvert_exporter": "python",
   "pygments_lexer": "ipython3",
   "version": "3.6.1"
  }
 },
 "nbformat": 4,
 "nbformat_minor": 2
}
