{
 "cells": [
  {
   "cell_type": "markdown",
   "metadata": {},
   "source": [
    "<a href='http://www.holoviews.org'><img src=\"../notebooks/assets/hv+bk.png\" alt=\"HV+BK logos\" width=\"40%;\" align=\"left\"/></a>\n",
    "<div style=\"float:right;\"><h2>Excercise 2: Datasets and Collections of Data</h2></div>"
   ]
  },
  {
   "cell_type": "code",
   "execution_count": null,
   "metadata": {},
   "outputs": [],
   "source": [
    "import numpy as np\n",
    "import pandas as pd\n",
    "import holoviews as hv\n",
    "\n",
    "hv.extension('bokeh')"
   ]
  },
  {
   "cell_type": "code",
   "execution_count": null,
   "metadata": {},
   "outputs": [],
   "source": [
    "diamonds = pd.read_csv('../data/diamonds.csv').sample(5000)\n",
    "macro = pd.read_csv('../data/macro.csv')"
   ]
  },
  {
   "cell_type": "markdown",
   "metadata": {},
   "source": [
    "### Example 1:"
   ]
  },
  {
   "cell_type": "markdown",
   "metadata": {},
   "source": [
    "Start by inspecting the ``macro`` dataframe using the ``head`` method to discover which columns it declares."
   ]
  },
  {
   "cell_type": "code",
   "execution_count": null,
   "metadata": {},
   "outputs": [],
   "source": []
  },
  {
   "cell_type": "markdown",
   "metadata": {},
   "source": [
    "Now plot the ``growth`` by ``year`` using a ``Scatter`` element."
   ]
  },
  {
   "cell_type": "code",
   "execution_count": null,
   "metadata": {},
   "outputs": [],
   "source": []
  },
  {
   "cell_type": "markdown",
   "metadata": {},
   "source": [
    "<b><a href=\"#solution1\" data-toggle=\"collapse\">Solution</a></b>\n",
    "\n",
    "<div id=\"solution1\" class=\"collapse\">\n",
    "    <br>\n",
    "    <code>hv.Scatter(macro, 'year', 'growth')</code>\n",
    "</div>\n",
    "\n",
    "Now declare the 'country' and 'unem' columns as additional vdims to the ``Scatter`` object and set ``color_index='country'`` and ``size_index='unem'`` as plot options. \n",
    "\n",
    "<b><a href=\"#hint1\" data-toggle=\"collapse\">Hint</a></b>\n",
    "\n",
    "<div id=\"hint1\" class=\"collapse\">\n",
    "The ``kdims`` and ``vdims`` arguments accept a single dimension or lists of dimensions.\n",
    "</div>"
   ]
  },
  {
   "cell_type": "code",
   "execution_count": null,
   "metadata": {},
   "outputs": [],
   "source": []
  },
  {
   "cell_type": "markdown",
   "metadata": {},
   "source": [
    "<b><a href=\"#solution2\" data-toggle=\"collapse\">Solution</a></b>\n",
    "\n",
    "<div id=\"solution2\" class=\"collapse\">\n",
    "<br>\n",
    "<code>%%opts Scatter [color_index='country' size_index='unem']\n",
    "hv.Scatter(macro, 'year', ['growth', 'country', 'unem'])</code>\n",
    "</div>\n",
    "\n",
    "You should now have a plot a fairly complex plot showing the growth by year, where each point is colored by the country and a size scaled by the unemployment, but you will immediately note the various issues with this plot. First identify the issues then try to address them by using tab-completion in the ``%%opts`` magic.\n",
    "\n",
    "<b><a href=\"#hint2\" data-toggle=\"collapse\">Hint</a></b>\n",
    "\n",
    "<div id=\"hint2\" class=\"collapse\">\n",
    "The color mapping can be controlled using the ``cmap`` style option, while the legend position can be changed using the ``legend_position`` plot option.\n",
    "</div>"
   ]
  },
  {
   "cell_type": "code",
   "execution_count": null,
   "metadata": {},
   "outputs": [],
   "source": []
  },
  {
   "cell_type": "markdown",
   "metadata": {},
   "source": [
    "<b><a href=\"#solution3\" data-toggle=\"collapse\">Solution</a></b>\n",
    "\n",
    "<div id=\"solution3\" class=\"collapse\">\n",
    "<br>\n",
    "<code>%%opts Scatter [color_index='country' size_index='unem' width=800 height=400 legend_position='left'] (cmap='tab20')\n",
    "hv.Scatter(macro, 'year', ['growth', 'country', 'unem']).sort(['year', 'country'])</code>\n",
    "</div>\n",
    "\n",
    "\n",
    "### Example 2: \n",
    "\n",
    "This time we will be working with a dataset about diamonds, as before inspect the dataframe to see what columns it has. Instead of looking at the dataframe itself look at the string representation of the ``diamond_ds`` Dataset:"
   ]
  },
  {
   "cell_type": "code",
   "execution_count": null,
   "metadata": {},
   "outputs": [],
   "source": [
    "diamond_ds = hv.Dataset(diamonds, ['cut', 'color', 'clarity'])"
   ]
  },
  {
   "cell_type": "markdown",
   "metadata": {},
   "source": [
    "Using the ``.to`` method on the ``diamond_ds`` plot the 'carat' against the 'price' column using a  ``Scatter`` element and use the groupby kwarg to split the dataset by 'clarity'.\n",
    "\n",
    "<b><a href=\"#hint3\" data-toggle=\"collapse\">Hint</a></b>\n",
    "\n",
    "<div id=\"hint3\" class=\"collapse\">\n",
    "The ``.to`` method follows a signature of ``dataset.to(Element, kdims, vdims, groupby)``.\n",
    "</div>"
   ]
  },
  {
   "cell_type": "code",
   "execution_count": null,
   "metadata": {},
   "outputs": [],
   "source": []
  },
  {
   "cell_type": "markdown",
   "metadata": {},
   "source": [
    "<b><a href=\"#solution4\" data-toggle=\"collapse\">Solution</a></b>\n",
    "\n",
    "<div id=\"solution4\" class=\"collapse\">\n",
    "<br>\n",
    "<code>diamond_ds.to(hv.Scatter, 'carat', 'price', groupby='clarity')</code>\n",
    "</div>\n",
    "\n",
    "The plot you should have gotten lets you view each subset separately. Now use the ``.overlay`` method on the grouped dataset to overlay the individual plots. Then adjust the width and height of the plot, enable a log y-axis and define a custom color cycle using ``Cycle('Category20')`` as a style option.\n",
    "\n",
    "<b><a href=\"#hint4\" data-toggle=\"collapse\">Hint</a></b>\n",
    "\n",
    "<div id=\"hint4\" class=\"collapse\">\n",
    "A ``Cycle`` can be used on any style option, to set a color cycle just set it on the ``color`` option.\n",
    "</div>"
   ]
  },
  {
   "cell_type": "code",
   "execution_count": null,
   "metadata": {},
   "outputs": [],
   "source": []
  },
  {
   "cell_type": "markdown",
   "metadata": {},
   "source": [
    "<b><a href=\"#solution5\" data-toggle=\"collapse\">Solution</a></b>\n",
    "\n",
    "<div id=\"solution5\" class=\"collapse\">\n",
    "<br>\n",
    "<code>%%opts Scatter [width=600 height=400 logy=True] (color=Cycle('Category20'))\n",
    "diamond_ds.to(hv.Scatter, 'carat', 'price', groupby='clarity').overlay()</code>\n",
    "</div>\n",
    "\n",
    "### Example 3:\n",
    "\n",
    "Now let's look at the same dataset in a different way. Again using the ``.to`` method plot the 'price' broken down by 'cut' and group it by 'clarity'.\n",
    "\n",
    "<b><a href=\"#hint4\" data-toggle=\"collapse\">Hint</a></b>\n",
    "\n",
    "<div id=\"hint4\" class=\"collapse\">\n",
    "Make sure to specify the 'price' as the value dimension, i.e. as the second argument.\n",
    "</div>"
   ]
  },
  {
   "cell_type": "markdown",
   "metadata": {},
   "source": []
  },
  {
   "cell_type": "markdown",
   "metadata": {},
   "source": [
    "<b><a href=\"#solution6\" data-toggle=\"collapse\">Solution</a></b>\n",
    "\n",
    "<div id=\"solution6\" class=\"collapse\">\n",
    "<br>\n",
    "<code>diamond_ds.to(hv.BoxWhisker, 'cut', 'price', groupby='clarity')</code>\n",
    "</div>\n",
    "\n",
    "This time let's lay out the grouped dimension as a grid. Use the ``grid`` method on the grouped dataset. Then enable the ``shared_xaxis`` and ``shared_yaxis`` plot options on the resulting ``GridSpace``. Finally set a custom ``xrotation`` to rotate the x-axis ticks.\n",
    "\n",
    "<b><a href=\"#hint4\" data-toggle=\"collapse\">Hint</a></b>\n",
    "\n",
    "<div id=\"hint4\" class=\"collapse\">\n",
    "Just like elements, containers like a ``GridSpace`` have plot options which can be specified using ``%%opts GridSpace [...].\n",
    "</div>"
   ]
  },
  {
   "cell_type": "code",
   "execution_count": null,
   "metadata": {},
   "outputs": [],
   "source": []
  },
  {
   "cell_type": "markdown",
   "metadata": {},
   "source": [
    "<b><a href=\"#solution6\" data-toggle=\"collapse\">Solution</a></b>\n",
    "\n",
    "<div id=\"solution6\" class=\"collapse\">\n",
    "<br>\n",
    "<code>%%opts GridSpace [shared_xaxis=True shared_yaxis=True] BoxWhisker [xrotation=45]\n",
    "diamond_ds.to(hv.BoxWhisker, 'cut', 'price', groupby='clarity').grid()</code>\n",
    "</div>"
   ]
  }
 ],
 "metadata": {
  "kernelspec": {
   "display_name": "Python 3",
   "language": "python",
   "name": "python3"
  },
  "language_info": {
   "codemirror_mode": {
    "name": "ipython",
    "version": 3
   },
   "file_extension": ".py",
   "mimetype": "text/x-python",
   "name": "python",
   "nbconvert_exporter": "python",
   "pygments_lexer": "ipython3",
   "version": "3.6.3"
  }
 },
 "nbformat": 4,
 "nbformat_minor": 2
}
