{
 "cells": [
  {
   "cell_type": "markdown",
   "metadata": {},
   "source": [
    "<a href='http://www.holoviews.org'><img src=\"assets/hv+bk.png\" alt=\"HV+BK logos\" width=\"40%;\" align=\"left\"/></a>\n",
    "<div style=\"float:right;\"><h2>Excercise 3: Networks and GeoViews</h2></div>"
   ]
  },
  {
   "cell_type": "code",
   "execution_count": null,
   "metadata": {},
   "outputs": [],
   "source": [
    "import numpy as np\n",
    "import pandas as pd\n",
    "import holoviews as hv\n",
    "import geoviews as gv\n",
    "import networkx as nx\n",
    "\n",
    "from bokeh.sampledata.airport_routes import airports, routes\n",
    "from holoviews.operation.datashader import datashade, directly_connect_edges, bundle_graph\n",
    "\n",
    "hv.extension('bokeh')"
   ]
  },
  {
   "cell_type": "code",
   "execution_count": null,
   "metadata": {},
   "outputs": [],
   "source": [
    "airports\n",
    "airports.head()"
   ]
  },
  {
   "cell_type": "markdown",
   "metadata": {},
   "source": [
    "### Example 1\n",
    "\n",
    "In this example we will plot the coordinates of all of these airports on a map using ``gv.Points``."
   ]
  },
  {
   "cell_type": "code",
   "execution_count": null,
   "metadata": {},
   "outputs": [],
   "source": [
    "# Create a gv.Points object displaying the 'Latitude' and 'Longitude' dimensions\n",
    "points = gv.Points(airports, ['Longitude', 'Latitude'])\n",
    "points"
   ]
  },
  {
   "cell_type": "code",
   "execution_count": null,
   "metadata": {},
   "outputs": [],
   "source": [
    "points = points.select(Longitude=(-180, 0), Latitude=(0, None))\n",
    "points"
   ]
  },
  {
   "cell_type": "markdown",
   "metadata": {},
   "source": [
    "Now set the ``width`` to 500 and ``height`` to 400 using ``%%opts`` or the ``.opts`` method."
   ]
  },
  {
   "cell_type": "markdown",
   "metadata": {},
   "source": [
    "Now add a gv.WMTS element below the points."
   ]
  },
  {
   "cell_type": "code",
   "execution_count": null,
   "metadata": {},
   "outputs": [],
   "source": [
    "%%opts Points [width=500 height=400 tools=['hover']] (size=2 color='black' fill_alpha=0)\n",
    "url = 'https://maps.wikimedia.org/osm-intl/{Z}/{X}/{Y}.png'\n",
    "gv.WMTS(url) * points"
   ]
  },
  {
   "cell_type": "markdown",
   "metadata": {},
   "source": [
    "## Exercise 2"
   ]
  },
  {
   "cell_type": "code",
   "execution_count": null,
   "metadata": {},
   "outputs": [],
   "source": [
    "airports.head()"
   ]
  },
  {
   "cell_type": "code",
   "execution_count": null,
   "metadata": {},
   "outputs": [],
   "source": [
    "routes.head()"
   ]
  },
  {
   "cell_type": "code",
   "execution_count": null,
   "metadata": {},
   "outputs": [],
   "source": [
    "%%opts Graph (node_size=4)\n",
    "g = nx.from_pandas_dataframe(routes, 'SourceID', 'DestinationID')\n",
    "hv.Graph.from_networkx(g, nx.spring_layout)"
   ]
  },
  {
   "cell_type": "code",
   "execution_count": null,
   "metadata": {},
   "outputs": [],
   "source": [
    "%%opts Graph [width=600 height=600 color_index='TZ'] (node_size=4)\n",
    "g = nx.from_pandas_dataframe(routes, 'SourceID', 'DestinationID')\n",
    "ds = hv.Dataset(airports, ['AirportID'], ['Name', 'TZ'])\n",
    "hv.Graph.from_networkx(g, nx.spring_layout, ds)"
   ]
  },
  {
   "cell_type": "code",
   "execution_count": null,
   "metadata": {
    "scrolled": false
   },
   "outputs": [],
   "source": [
    "g = nx.from_pandas_dataframe(routes, 'SourceID', 'DestinationID')\n",
    "ds = hv.Dataset(airports, ['AirportID'], ['Name', 'TZ'])\n",
    "graph = hv.Graph.from_networkx(g, nx.spring_layout, ds)\n",
    "\n",
    "opts = {'plot': dict(width=500, height=500, xaxis=None, yaxis=None, color_index='TZ', show_legend=True),\n",
    "        'style': dict(cmap='tab20', node_size=5, edge_line_width=1)}\n",
    "graph.opts(**opts)"
   ]
  },
  {
   "cell_type": "markdown",
   "metadata": {},
   "source": [
    "### Exercise 3"
   ]
  },
  {
   "cell_type": "code",
   "execution_count": null,
   "metadata": {},
   "outputs": [],
   "source": [
    "# Count the number of connections from each airport\n",
    "counts = routes.groupby('SourceID')[['Stops']].count().reset_index().rename(columns={'Stops': 'Connections'})\n",
    "airports_df = pd.merge(airports, counts, left_on='AirportID', right_on='SourceID', how='left')\n",
    "\n",
    "# Select only US mainland airports & convert from Mercator to Latitudes/Longitudes\n",
    "airport_points = gv.Points(airports_df, ['Longitude', 'Latitude'])\n",
    "projected_points = gv.operation.project_points(airport_points)\n",
    "\n",
    "busiest_ids = list(routes.groupby('SourceID').count().sort_values('Stops').iloc[-50:].index.values)\n",
    "tiles = gv.WMTS('https://maps.wikimedia.org/osm-intl/{Z}/{X}/{Y}@2x.png')"
   ]
  },
  {
   "cell_type": "code",
   "execution_count": null,
   "metadata": {},
   "outputs": [],
   "source": [
    "# Declare nodes, graph and tiles\n",
    "nodes = hv.Nodes(projected_points, ['Longitude', 'Latitude', 'AirportID'], ['Name', 'City', 'Connections'])\n",
    "graph = hv.Graph((routes, nodes), ['SourceID', 'DestinationID'], ['Source', 'Destination'])\n",
    "\n",
    "# Select 50 busiest airports\n",
    "busiest_airports = graph.select(AirportID=busiest, selection_mode='nodes')"
   ]
  },
  {
   "cell_type": "code",
   "execution_count": null,
   "metadata": {},
   "outputs": [],
   "source": [
    "%%opts Graph [width=800 height=800] (edge_selection_line_color='black' edge_hover_line_color='red')\n",
    "%%opts Graph (node_size=8 edge_line_width=1 edge_line_alpha=0 edge_nonselection_line_alpha=0)\n",
    "tiles * busiest_airports"
   ]
  }
 ],
 "metadata": {
  "kernelspec": {
   "display_name": "Python 3",
   "language": "python",
   "name": "python3"
  },
  "language_info": {
   "codemirror_mode": {
    "name": "ipython",
    "version": 3
   },
   "file_extension": ".py",
   "mimetype": "text/x-python",
   "name": "python",
   "nbconvert_exporter": "python",
   "pygments_lexer": "ipython3",
   "version": "3.6.3"
  }
 },
 "nbformat": 4,
 "nbformat_minor": 2
}
