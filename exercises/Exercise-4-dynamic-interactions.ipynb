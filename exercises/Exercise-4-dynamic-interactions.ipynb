{
 "cells": [
  {
   "cell_type": "markdown",
   "metadata": {},
   "source": [
    "<a href='http://www.holoviews.org'><img src=\"assets/hv+bk.png\" alt=\"HV+BK logos\" width=\"40%;\" align=\"left\"/></a>\n",
    "<div style=\"float:right;\"><h2>Excercise 4: Dynamic Interactions</h2></div>"
   ]
  },
  {
   "cell_type": "code",
   "execution_count": null,
   "metadata": {},
   "outputs": [],
   "source": [
    "import numpy as np\n",
    "import pandas as pd\n",
    "import holoviews as hv\n",
    "import geoviews as gv\n",
    "\n",
    "hv.extension('bokeh')"
   ]
  },
  {
   "cell_type": "markdown",
   "metadata": {},
   "source": [
    "### Exercise 1"
   ]
  },
  {
   "cell_type": "code",
   "execution_count": null,
   "metadata": {},
   "outputs": [],
   "source": [
    "diamonds = pd.read_csv('../data/diamonds.csv')\n",
    "diamonds.head()"
   ]
  },
  {
   "cell_type": "code",
   "execution_count": null,
   "metadata": {},
   "outputs": [],
   "source": [
    "%%opts Scatter [width=600 height=400 logy=True tools=['lasso_select'] color_index='cut'] (size=1 cmap='tab20c')\n",
    "\n",
    "scatter = hv.Scatter(diamonds.sample(20000), 'carat', ['price', 'cut', 'clarity']).select(carat=(0, 3))\n",
    "boxwhisker = hv.BoxWhisker(scatter, 'clarity', 'price')\n",
    "\n",
    "scatter + boxwhisker"
   ]
  },
  {
   "cell_type": "code",
   "execution_count": null,
   "metadata": {},
   "outputs": [],
   "source": [
    "selection = hv.streams.Selection1D(source=scatter)\n",
    "\n",
    "def cut_bars(index):\n",
    "    return hv.BoxWhisker(scatter.iloc[index], 'clarity', 'price')\n",
    "\n",
    "scatter + hv.DynamicMap(cut_bars, streams=[selection])"
   ]
  },
  {
   "cell_type": "markdown",
   "metadata": {},
   "source": [
    "## Exercise 2: Streaming Data"
   ]
  },
  {
   "cell_type": "code",
   "execution_count": null,
   "metadata": {},
   "outputs": [],
   "source": [
    "import time\n",
    "import colorcet\n",
    "from itertools import cycle\n",
    "from holoviews.operation.datashader import datashade\n",
    "\n",
    "from streamz import Stream\n",
    "\n",
    "def taxi_trips_stream(source='/Users/philippjfr/datashader/examples/data/nyc_taxi.csv', frequency='H'):\n",
    "    \"\"\"Generate dataframes grouped by given frequency\"\"\"\n",
    "    def get_group(resampler, key):\n",
    "        try:\n",
    "            df = resampler.get_group(key)\n",
    "            df.reset_index(drop=True)\n",
    "        except KeyError:\n",
    "            df = pd.DataFrame()\n",
    "        return df\n",
    "\n",
    "    df = pd.read_csv(source,\n",
    "                     infer_datetime_format=True,\n",
    "                     usecols=['tpep_pickup_datetime', 'pickup_x', 'pickup_y', 'total_amount'],\n",
    "                     parse_dates=['tpep_pickup_datetime'])\n",
    "    df = df.set_index('tpep_pickup_datetime', drop=True)\n",
    "    df = df.sort_index()\n",
    "    r = df.resample(frequency)\n",
    "    chunks = [get_group(r, g) for g in sorted(r.groups)]\n",
    "    indices = cycle(range(len(chunks)))\n",
    "    while True:\n",
    "        yield chunks[next(indices)]\n",
    "\n",
    "trips = taxi_trips_stream()\n",
    "init = next(trips)"
   ]
  },
  {
   "cell_type": "code",
   "execution_count": null,
   "metadata": {},
   "outputs": [],
   "source": [
    "def stream_to_ds(data):\n",
    "    start, end = data[0], data[-1]\n",
    "    label = '%s - %s' % (str(start.index.min()), str(end.index.max()))\n",
    "    return hv.Dataset(pd.concat(data).reset_index(), label=label)\n",
    "    \n",
    "# Initialize window stream with initial data chunk\n",
    "pipe = hv.streams.Pipe([init])\n",
    "dmap = hv.DynamicMap(stream_to_ds, streams=[pipe])\n",
    "\n",
    "stream = Stream()\n",
    "stream.sliding_window(10).sink(pipe.send);"
   ]
  },
  {
   "cell_type": "code",
   "execution_count": null,
   "metadata": {},
   "outputs": [],
   "source": [
    "%%opts RGB [width=600 height=600]\n",
    "points = dmap.map(lambda ds: hv.Points(ds, ['pickup_x', 'pickup_y']), hv.Dataset)\n",
    "tiles = gv.WMTS('https://maps.wikimedia.org/osm-intl/{Z}/{X}/{Y}@2x.png')\n",
    "tiles * datashade(points, cmap=colorcet.palette.bgy)"
   ]
  },
  {
   "cell_type": "code",
   "execution_count": null,
   "metadata": {},
   "outputs": [],
   "source": [
    "for i in range(10):\n",
    "    stream.emit(next(trips))"
   ]
  },
  {
   "cell_type": "code",
   "execution_count": null,
   "metadata": {},
   "outputs": [],
   "source": [
    "%%opts Curve [width=800 height=400] (color='black' line_width=1) {+framewise} Scatter (color='red') Overlay [show_legend=False]\n",
    "curve_op = lambda ds: hv.Curve(ds, 'tpep_pickup_datetime', 'total_amount')\n",
    "amount_dmap = dmap.map(curve_op, hv.Dataset)\n",
    "minutely = resample(amount_dmap, rule='T', function=np.sum)\n",
    "minutely * rolling_outlier_std(minutely, rolling_window=10)"
   ]
  },
  {
   "cell_type": "code",
   "execution_count": null,
   "metadata": {},
   "outputs": [],
   "source": [
    "for i in range(100):\n",
    "    time.sleep(0.1)\n",
    "    stream.emit(next(trips))"
   ]
  }
 ],
 "metadata": {
  "kernelspec": {
   "display_name": "Python 3",
   "language": "python",
   "name": "python3"
  },
  "language_info": {
   "codemirror_mode": {
    "name": "ipython",
    "version": 3
   },
   "file_extension": ".py",
   "mimetype": "text/x-python",
   "name": "python",
   "nbconvert_exporter": "python",
   "pygments_lexer": "ipython3",
   "version": "3.6.3"
  }
 },
 "nbformat": 4,
 "nbformat_minor": 2
}
